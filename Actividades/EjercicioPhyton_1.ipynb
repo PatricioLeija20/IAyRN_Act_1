{
  "cells": [
    {
      "cell_type": "markdown",
      "source": [
        "**Actividad 2: Diseño de algoritmos en Python\n",
        "Patricio Leija TReviño 1996641 Hora:N4-N6**"
      ],
      "metadata": {
        "id": "sc3aZom7reT3"
      }
    },
    {
      "cell_type": "markdown",
      "source": [
        "\n",
        "Ejercicio 1\n",
        "Desarrolla un algoritmo que le pida al usuario por su nombre y que lo salude con su nombre, excepto si se llama “Ana”, “Juan”, y “Pedro”."
      ],
      "metadata": {
        "id": "K9V-w5GWSi8B"
      }
    },
    {
      "cell_type": "code",
      "source": [
        "while True:\n",
        "  nombre = input(\"¿Cómo te llamas? \")\n",
        "  if nombre.lower() not in [\"ana\", \"juan\", \"pedro\"]:\n",
        "   break\n",
        "  else:\n",
        "    print(\"No se puede\")\n",
        "\n",
        "print(f\"Hola crayola {nombre}\")\n"
      ],
      "metadata": {
        "colab": {
          "base_uri": "https://localhost:8080/"
        },
        "id": "bZEgR1hlSgBK",
        "outputId": "d32835bc-0aa7-4093-ef29-0ac7437e20ae"
      },
      "execution_count": null,
      "outputs": [
        {
          "output_type": "stream",
          "name": "stdout",
          "text": [
            "¿Cómo te llamas? pato\n",
            "Hola crayola pato\n"
          ]
        }
      ]
    },
    {
      "cell_type": "markdown",
      "source": [
        "Ejercicio 2\n",
        "Desarrolla un algoritmo que por medio de una función, le pida al usuario una lista de N elementos y como resultado invierta el sentido de la lista."
      ],
      "metadata": {
        "id": "nofG1FvHVou3"
      }
    },
    {
      "cell_type": "code",
      "source": [
        "def invertir_lista(n):\n",
        "\n",
        "\n",
        "  lista = []\n",
        "  for i in range(n):\n",
        "    elemento = input(\"Ingrese el elemento {}: \".format(i + 1))\n",
        "    lista.append(elemento)\n",
        "\n",
        "  lista_invertida = lista[::-1]\n",
        "  return lista_invertida\n",
        "\n",
        "n = int(input(\"¿Cuántos elementos desea ingresar? \"))\n",
        "\n",
        "lista_invertida = invertir_lista(n)\n",
        "print(\"La lista invertida es:\", lista_invertida)"
      ],
      "metadata": {
        "colab": {
          "base_uri": "https://localhost:8080/"
        },
        "id": "msNnWAJeVxkg",
        "outputId": "b68e09b3-c66b-4843-b4f6-dba788f59d70"
      },
      "execution_count": 2,
      "outputs": [
        {
          "output_type": "stream",
          "name": "stdout",
          "text": [
            "¿Cuántos elementos desea ingresar? 3\n",
            "Ingrese el elemento 1: e\n",
            "Ingrese el elemento 2: a\n",
            "Ingrese el elemento 3: q\n",
            "La lista invertida es: ['q', 'a', 'e']\n"
          ]
        }
      ]
    },
    {
      "cell_type": "markdown",
      "source": [
        "Ejercicio 3 Desarrolla un algoritmo que le pregunte al usuario cuántos números de la serie de Fibonacci quiere generar y que al final los imprima."
      ],
      "metadata": {
        "id": "jES5QZ8xjstm"
      }
    },
    {
      "cell_type": "code",
      "source": [
        "\n",
        "n = 0\n",
        "fibonacci_series = []\n",
        "\n",
        "\n",
        "n = int(input(\"¿Cuántos números de la serie de Fibonacci quieres generar?: \"))\n",
        "\n",
        "\n",
        "i = 1\n",
        "if n > 0:\n",
        "    fibonacci_series.append(0)\n",
        "if n > 1:\n",
        "    fibonacci_series.append(1)\n",
        "while i < n:\n",
        "        fibonacci_series.append(fibonacci_series[i - 1] + fibonacci_series[i - 2])\n",
        "        i += 1\n",
        "\n",
        "\n",
        "print(\"Serie de Fibonacci:\")\n",
        "for number in fibonacci_series:\n",
        "    print(number)\n"
      ],
      "metadata": {
        "colab": {
          "base_uri": "https://localhost:8080/"
        },
        "id": "vIYGu5xjkNaU",
        "outputId": "b3cf522c-0c67-449d-891e-c1f03004f5d0"
      },
      "execution_count": 3,
      "outputs": [
        {
          "output_type": "stream",
          "name": "stdout",
          "text": [
            "¿Cuántos números de la serie de Fibonacci quieres generar?: 3\n",
            "Serie de Fibonacci:\n",
            "0\n",
            "1\n",
            "1\n",
            "1\n"
          ]
        }
      ]
    },
    {
      "cell_type": "markdown",
      "source": [
        "Ejercicio 4 Juego de adivinar el número: Crea un programa que genere un número aleatorio entre 1 y 100, y luego le pida al usuario que adivine el número. El programa debe proporcionar pistas al usuario si el número es mayor o menor que el número objetivo, y seguir solicitando un nuevo intento hasta que el usuario adivine correctamente."
      ],
      "metadata": {
        "id": "0VDrauOjkcWx"
      }
    },
    {
      "cell_type": "code",
      "source": [
        "import random\n",
        "\n",
        "\n",
        "target_number = random.randint(1, 100)\n",
        "\n",
        "\n",
        "guess = None\n",
        "\n",
        "\n",
        "while guess != target_number:\n",
        "\n",
        "  guess = int(input(\"Adivina el número (entre 1 y 100): \"))\n",
        "\n",
        "\n",
        "  if guess > target_number:\n",
        "    print(\"El número es menor.\")\n",
        "  elif guess < target_number:\n",
        "    print(\"El número es mayor.\")\n",
        "\n",
        "\n",
        "print(\"¡Felicidades! Adivinaste el número.\")"
      ],
      "metadata": {
        "colab": {
          "base_uri": "https://localhost:8080/"
        },
        "id": "WR8ZG59pkiVm",
        "outputId": "4228862d-68d6-4741-ccde-5da24b3bc92b"
      },
      "execution_count": 4,
      "outputs": [
        {
          "output_type": "stream",
          "name": "stdout",
          "text": [
            "Adivina el número (entre 1 y 100): 35\n",
            "El número es mayor.\n",
            "Adivina el número (entre 1 y 100): 57\n",
            "El número es menor.\n",
            "Adivina el número (entre 1 y 100): 43\n",
            "El número es mayor.\n",
            "Adivina el número (entre 1 y 100): 50\n",
            "El número es menor.\n",
            "Adivina el número (entre 1 y 100): 47\n",
            "El número es menor.\n",
            "Adivina el número (entre 1 y 100): 44\n",
            "¡Felicidades! Adivinaste el número.\n"
          ]
        }
      ]
    },
    {
      "cell_type": "markdown",
      "source": [
        "Ejercicio 5 Ejercicio de cálculo de números primos en un rango dado: Escribe un programa que solicite al usuario un rango de números y muestre todos los números primos dentro de ese rango."
      ],
      "metadata": {
        "id": "t_lIBBfsk4kx"
      }
    },
    {
      "cell_type": "code",
      "source": [
        "def es_primo(numero):\n",
        "\n",
        "  if numero <= 1:\n",
        "    return False\n",
        "  for i in range(2, int(numero**0.5) + 1):\n",
        "    if numero % i == 0:\n",
        "      return False\n",
        "  return True\n",
        "\n",
        "def main():\n",
        "\n",
        "  # Solicitar al usuario el rango de números.\n",
        "  inicio = int(input(\"Introduce el número inicial del rango: \"))\n",
        "  fin = int(input(\"Introduce el número final del rango: \"))\n",
        "\n",
        "  # Comprobar si el rango es válido.\n",
        "  if inicio > fin:\n",
        "    print(\"El rango no es válido.\")\n",
        "    return\n",
        "\n",
        "  # Mostrar todos los números primos dentro del rango.\n",
        "  for i in range(inicio, fin + 1):\n",
        "    if es_primo(i):\n",
        "      print(i)\n",
        "\n",
        "if __name__ == \"__main__\":\n",
        "  main()"
      ],
      "metadata": {
        "colab": {
          "base_uri": "https://localhost:8080/"
        },
        "id": "JmOHAq3YmENL",
        "outputId": "0b5e4372-5333-46bf-d38a-6a96f2f5d307"
      },
      "execution_count": 6,
      "outputs": [
        {
          "output_type": "stream",
          "name": "stdout",
          "text": [
            "Introduce el número inicial del rango: 1\n",
            "Introduce el número final del rango: 50\n",
            "2\n",
            "3\n",
            "5\n",
            "7\n",
            "11\n",
            "13\n",
            "17\n",
            "19\n",
            "23\n",
            "29\n",
            "31\n",
            "37\n",
            "41\n",
            "43\n",
            "47\n"
          ]
        }
      ]
    },
    {
      "cell_type": "markdown",
      "source": [
        "Ejercicio 6 Ejercicio de implementación de una calculadora básica utilizando funciones: Escribe un programa que solicite al usuario dos números y realice operaciones básicas como suma, resta, multiplicación y división utilizando funciones separadas para cada operación."
      ],
      "metadata": {
        "id": "D2KLfEzDmjst"
      }
    },
    {
      "cell_type": "code",
      "source": [
        "def suma(num1, num2):\n",
        "\n",
        "  return num1 + num2\n",
        "\n",
        "def resta(num1, num2):\n",
        "\n",
        "  return num1 - num2\n",
        "\n",
        "def multiplicacion(num1, num2):\n",
        "\n",
        "  return num1 * num2\n",
        "\n",
        "def division(num1, num2):\n",
        "\n",
        "  if num2 == 0:\n",
        "    raise ValueError(\"No se puede dividir por cero.\")\n",
        "  return num1 / num2\n",
        "\n",
        "\n",
        "num1 = float(input(\"Introduce el primer número: \"))\n",
        "num2 = float(input(\"Introduce el segundo número: \"))\n",
        "\n",
        "\n",
        "print(\"\"\"\n",
        "Elige la operación que deseas realizar:\n",
        "1. Suma\n",
        "2. Resta\n",
        "3. Multiplicación\n",
        "4. División\n",
        "\"\"\")\n",
        "\n",
        "\n",
        "opcion = int(input(\"Elige una opción (1-4): \"))\n",
        "\n",
        "\n",
        "if opcion == 1:\n",
        "  resultado = suma(num1, num2)\n",
        "elif opcion == 2:\n",
        "  resultado = resta(num1, num2)\n",
        "elif opcion == 3:\n",
        "  resultado = multiplicacion(num1, num2)\n",
        "elif opcion == 4:\n",
        "  resultado = division(num1, num2)\n",
        "else:\n",
        "  print(\"Opción inválida.\")\n",
        "\n",
        "\n",
        "if opcion in range(1, 5):\n",
        "  print(f\"El resultado es: {resultado}\")"
      ],
      "metadata": {
        "colab": {
          "base_uri": "https://localhost:8080/"
        },
        "id": "N0WxGkY0mrUF",
        "outputId": "80186119-3275-4287-db96-7d784fd220d5"
      },
      "execution_count": 7,
      "outputs": [
        {
          "output_type": "stream",
          "name": "stdout",
          "text": [
            "Introduce el primer número: 35\n",
            "Introduce el segundo número: 70\n",
            "\n",
            "Elige la operación que deseas realizar:\n",
            "1. Suma\n",
            "2. Resta\n",
            "3. Multiplicación\n",
            "4. División\n",
            "\n",
            "Elige una opción (1-4): 3\n",
            "El resultado es: 2450.0\n"
          ]
        }
      ]
    }
  ],
  "metadata": {
    "colab": {
      "provenance": []
    },
    "kernelspec": {
      "display_name": "Python 3",
      "name": "python3"
    }
  },
  "nbformat": 4,
  "nbformat_minor": 0
}